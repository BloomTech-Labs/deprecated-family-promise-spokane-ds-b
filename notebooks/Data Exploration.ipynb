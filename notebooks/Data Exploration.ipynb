{
 "cells": [
  {
   "cell_type": "markdown",
   "metadata": {},
   "source": [
    "# Data Importing"
   ]
  },
  {
   "cell_type": "code",
   "execution_count": 28,
   "metadata": {},
   "outputs": [],
   "source": [
    "import pandas as pd\n",
    "import numpy as np\n",
    "import seaborn as sns\n",
    "\n",
    "from pandas_profiling import ProfileReport"
   ]
  },
  {
   "cell_type": "code",
   "execution_count": 29,
   "metadata": {},
   "outputs": [],
   "source": [
    "data = pd.read_csv('../All_data_with_exits.csv')\n",
    "df = pd.DataFrame(data)"
   ]
  },
  {
   "cell_type": "code",
   "execution_count": 30,
   "metadata": {},
   "outputs": [
    {
     "data": {
      "text/html": [
       "<div>\n",
       "<style scoped>\n",
       "    .dataframe tbody tr th:only-of-type {\n",
       "        vertical-align: middle;\n",
       "    }\n",
       "\n",
       "    .dataframe tbody tr th {\n",
       "        vertical-align: top;\n",
       "    }\n",
       "\n",
       "    .dataframe thead th {\n",
       "        text-align: right;\n",
       "    }\n",
       "</style>\n",
       "<table border=\"1\" class=\"dataframe\">\n",
       "  <thead>\n",
       "    <tr style=\"text-align: right;\">\n",
       "      <th></th>\n",
       "      <th>2.1 Organization Name</th>\n",
       "      <th>2.2 Project Name</th>\n",
       "      <th>2.4 ProjectType</th>\n",
       "      <th>2.5 Utilization Tracking Method (Invalid)</th>\n",
       "      <th>2.6 Federal Grant Programs</th>\n",
       "      <th>5.8 Personal ID</th>\n",
       "      <th>5.9 Household ID</th>\n",
       "      <th>3.15 Relationship to HoH</th>\n",
       "      <th>3.16 Client Location</th>\n",
       "      <th>CaseMembers</th>\n",
       "      <th>...</th>\n",
       "      <th>4.2.10h Workers Compensation</th>\n",
       "      <th>4.2.11i TANF</th>\n",
       "      <th>4.2.12j General Assistance</th>\n",
       "      <th>4.2.13k Retirement (Social Security)</th>\n",
       "      <th>4.2.14l Pension from a Former Job</th>\n",
       "      <th>4.2.15m Child Support</th>\n",
       "      <th>4.2.16n Alimony</th>\n",
       "      <th>4.2.17o Other Income</th>\n",
       "      <th>Chronic Homeless Status_vHMISDatAssessment</th>\n",
       "      <th>Chronic Homeless Status_EvaluatevHMIS&amp;HMISDA</th>\n",
       "    </tr>\n",
       "  </thead>\n",
       "  <tbody>\n",
       "    <tr>\n",
       "      <th>0</th>\n",
       "      <td>Family Promise of Spokane</td>\n",
       "      <td>FPS--ES--Bridges Family Shelter</td>\n",
       "      <td>Emergency shelter</td>\n",
       "      <td>Entry/Exit (e/e)</td>\n",
       "      <td>NaN</td>\n",
       "      <td>56550</td>\n",
       "      <td>92775</td>\n",
       "      <td>Son</td>\n",
       "      <td>NaN</td>\n",
       "      <td>6</td>\n",
       "      <td>...</td>\n",
       "      <td>0</td>\n",
       "      <td>0</td>\n",
       "      <td>0</td>\n",
       "      <td>0</td>\n",
       "      <td>0</td>\n",
       "      <td>0.0</td>\n",
       "      <td>0</td>\n",
       "      <td>0</td>\n",
       "      <td>0</td>\n",
       "      <td>0</td>\n",
       "    </tr>\n",
       "    <tr>\n",
       "      <th>1</th>\n",
       "      <td>Family Promise of Spokane</td>\n",
       "      <td>FPS--ES--Bridges Family Shelter</td>\n",
       "      <td>Emergency shelter</td>\n",
       "      <td>Entry/Exit (e/e)</td>\n",
       "      <td>NaN</td>\n",
       "      <td>36138</td>\n",
       "      <td>92775</td>\n",
       "      <td>Self</td>\n",
       "      <td>Spokane City &amp; County CoC</td>\n",
       "      <td>6</td>\n",
       "      <td>...</td>\n",
       "      <td>0</td>\n",
       "      <td>0</td>\n",
       "      <td>0</td>\n",
       "      <td>0</td>\n",
       "      <td>0</td>\n",
       "      <td>0.0</td>\n",
       "      <td>0</td>\n",
       "      <td>0</td>\n",
       "      <td>0</td>\n",
       "      <td>0</td>\n",
       "    </tr>\n",
       "    <tr>\n",
       "      <th>2</th>\n",
       "      <td>Family Promise of Spokane</td>\n",
       "      <td>FPS--ES--Bridges Family Shelter</td>\n",
       "      <td>Emergency shelter</td>\n",
       "      <td>Entry/Exit (e/e)</td>\n",
       "      <td>NaN</td>\n",
       "      <td>36139</td>\n",
       "      <td>92775</td>\n",
       "      <td>Daughter</td>\n",
       "      <td>NaN</td>\n",
       "      <td>6</td>\n",
       "      <td>...</td>\n",
       "      <td>0</td>\n",
       "      <td>0</td>\n",
       "      <td>0</td>\n",
       "      <td>0</td>\n",
       "      <td>0</td>\n",
       "      <td>0.0</td>\n",
       "      <td>0</td>\n",
       "      <td>0</td>\n",
       "      <td>0</td>\n",
       "      <td>0</td>\n",
       "    </tr>\n",
       "    <tr>\n",
       "      <th>3</th>\n",
       "      <td>Family Promise of Spokane</td>\n",
       "      <td>FPS--ES--Bridges Family Shelter</td>\n",
       "      <td>Emergency shelter</td>\n",
       "      <td>Entry/Exit (e/e)</td>\n",
       "      <td>NaN</td>\n",
       "      <td>36140</td>\n",
       "      <td>92775</td>\n",
       "      <td>Son</td>\n",
       "      <td>NaN</td>\n",
       "      <td>6</td>\n",
       "      <td>...</td>\n",
       "      <td>0</td>\n",
       "      <td>0</td>\n",
       "      <td>0</td>\n",
       "      <td>0</td>\n",
       "      <td>0</td>\n",
       "      <td>0.0</td>\n",
       "      <td>0</td>\n",
       "      <td>0</td>\n",
       "      <td>0</td>\n",
       "      <td>0</td>\n",
       "    </tr>\n",
       "    <tr>\n",
       "      <th>4</th>\n",
       "      <td>Family Promise of Spokane</td>\n",
       "      <td>FPS--ES--Bridges Family Shelter</td>\n",
       "      <td>Emergency shelter</td>\n",
       "      <td>Entry/Exit (e/e)</td>\n",
       "      <td>NaN</td>\n",
       "      <td>36141</td>\n",
       "      <td>92775</td>\n",
       "      <td>Significant Other (Non-Married)</td>\n",
       "      <td>NaN</td>\n",
       "      <td>6</td>\n",
       "      <td>...</td>\n",
       "      <td>0</td>\n",
       "      <td>0</td>\n",
       "      <td>0</td>\n",
       "      <td>0</td>\n",
       "      <td>0</td>\n",
       "      <td>0.0</td>\n",
       "      <td>0</td>\n",
       "      <td>0</td>\n",
       "      <td>1</td>\n",
       "      <td>1</td>\n",
       "    </tr>\n",
       "  </tbody>\n",
       "</table>\n",
       "<p>5 rows × 143 columns</p>\n",
       "</div>"
      ],
      "text/plain": [
       "       2.1 Organization Name                 2.2 Project Name  \\\n",
       "0  Family Promise of Spokane  FPS--ES--Bridges Family Shelter   \n",
       "1  Family Promise of Spokane  FPS--ES--Bridges Family Shelter   \n",
       "2  Family Promise of Spokane  FPS--ES--Bridges Family Shelter   \n",
       "3  Family Promise of Spokane  FPS--ES--Bridges Family Shelter   \n",
       "4  Family Promise of Spokane  FPS--ES--Bridges Family Shelter   \n",
       "\n",
       "     2.4 ProjectType 2.5 Utilization Tracking Method (Invalid)  \\\n",
       "0  Emergency shelter                          Entry/Exit (e/e)   \n",
       "1  Emergency shelter                          Entry/Exit (e/e)   \n",
       "2  Emergency shelter                          Entry/Exit (e/e)   \n",
       "3  Emergency shelter                          Entry/Exit (e/e)   \n",
       "4  Emergency shelter                          Entry/Exit (e/e)   \n",
       "\n",
       "  2.6 Federal Grant Programs  5.8 Personal ID  5.9 Household ID  \\\n",
       "0                        NaN            56550             92775   \n",
       "1                        NaN            36138             92775   \n",
       "2                        NaN            36139             92775   \n",
       "3                        NaN            36140             92775   \n",
       "4                        NaN            36141             92775   \n",
       "\n",
       "          3.15 Relationship to HoH       3.16 Client Location  CaseMembers  \\\n",
       "0                              Son                        NaN            6   \n",
       "1                             Self  Spokane City & County CoC            6   \n",
       "2                         Daughter                        NaN            6   \n",
       "3                              Son                        NaN            6   \n",
       "4  Significant Other (Non-Married)                        NaN            6   \n",
       "\n",
       "   ... 4.2.10h Workers Compensation 4.2.11i TANF 4.2.12j General Assistance  \\\n",
       "0  ...                            0            0                          0   \n",
       "1  ...                            0            0                          0   \n",
       "2  ...                            0            0                          0   \n",
       "3  ...                            0            0                          0   \n",
       "4  ...                            0            0                          0   \n",
       "\n",
       "  4.2.13k Retirement (Social Security) 4.2.14l Pension from a Former Job  \\\n",
       "0                                    0                                 0   \n",
       "1                                    0                                 0   \n",
       "2                                    0                                 0   \n",
       "3                                    0                                 0   \n",
       "4                                    0                                 0   \n",
       "\n",
       "   4.2.15m Child Support  4.2.16n Alimony 4.2.17o Other Income  \\\n",
       "0                    0.0                0                    0   \n",
       "1                    0.0                0                    0   \n",
       "2                    0.0                0                    0   \n",
       "3                    0.0                0                    0   \n",
       "4                    0.0                0                    0   \n",
       "\n",
       "  Chronic Homeless Status_vHMISDatAssessment  \\\n",
       "0                                          0   \n",
       "1                                          0   \n",
       "2                                          0   \n",
       "3                                          0   \n",
       "4                                          1   \n",
       "\n",
       "  Chronic Homeless Status_EvaluatevHMIS&HMISDA  \n",
       "0                                            0  \n",
       "1                                            0  \n",
       "2                                            0  \n",
       "3                                            0  \n",
       "4                                            1  \n",
       "\n",
       "[5 rows x 143 columns]"
      ]
     },
     "execution_count": 30,
     "metadata": {},
     "output_type": "execute_result"
    }
   ],
   "source": [
    "df.head()"
   ]
  },
  {
   "cell_type": "markdown",
   "metadata": {},
   "source": [
    "# Target Recategorization\n",
    "\n",
    "\n",
    "Because the target is initially recorded in a very granular manner, the target labels will need to be recategorized to fit into the 5 Categories provided by stakeholder:\n",
    "\n",
    "- Permanent Exit\n",
    "- Temporary Exit\n",
    "- Emergency Shelter\n",
    "- Transitional Housing\n",
    "- Unknown/Other"
   ]
  },
  {
   "cell_type": "markdown",
   "metadata": {},
   "source": [
    "**Permanent Exit**\n",
    "\n",
    "- Staying or living with family, permanent tenure\n",
    "- Staying or living with friends, permanent tenure\n",
    "- Permanent housing (other than RRH) for formerly homeless persons\n",
    "- Rental by client with RRH or equivalent subsidy\n",
    "- Rental by client, no ongoing housing subsidy\n",
    "- Rental by client, other ongoing housing subsidy\n",
    "- Owned by client, no ongoing housing subsidy\n",
    "\n",
    "**Temporary Exit**  \n",
    "\n",
    "- Place not meant for habitation (e.g., a vehicle, an abandoned building, bus/train/subway station/airport or anywhere outside)\n",
    "- Staying or living with family, temporary tenure (e.g., room, apartment or house)\n",
    "- Staying or living with friends, temporary tenure (e.g., room, apartment or house)\n",
    "- Hotel or Motel paid for without Emergency Shelter Voucher\n",
    "\n",
    "**Emergency Shelter**  \n",
    "\n",
    "- Emergency shelter, including hotel or motel paid for with emergency shelter voucher, or RHY-funded Host Home shelter \n",
    "\n",
    "**Transitional Housing**  \n",
    "\n",
    "- Transitional Housing for homeless persons (including homeless youth)\n",
    "- Safe Haven\n",
    "- Substance Abuse Treatment or Detox Center\n",
    "- Foster Care Home or Foster Care Group Home\n",
    "- Psychiatric Hospital or Other Psychiatric Facility\n",
    "\n",
    "**Unknown/Other**\n",
    "\n",
    "- No exit interview completed\n",
    "- Client refused\n",
    "- Other\n",
    "- Client doesn't know"
   ]
  },
  {
   "cell_type": "markdown",
   "metadata": {},
   "source": [
    "Because pandas has a built in value mapping function that is more performant and consistent using a dictionary of this format, we are going with this dictionary structure rather than a more DRY dictionary with each entry as an element of a list with the category as the key.  \n",
    "e.g. `values_dict = {'Permanent Exit' : [some_value, some_value2]}`"
   ]
  },
  {
   "cell_type": "code",
   "execution_count": 31,
   "metadata": {},
   "outputs": [],
   "source": [
    "# Use apply to assign values in dataframe to categories\n",
    "values_dict = {\n",
    "    # Permanent Exits\n",
    "    'Staying or living with family, permanent tenure' : 'Permanent Exit',\n",
    "    'Staying or living with friends, permanent tenure' : 'Permanent Exit',\n",
    "    'Permanent housing (other than RRH) for formerly homeless persons' : 'Permanent Exit',\n",
    "    'Rental by client with RRH or equivalent subsidy' : 'Permanent Exit',\n",
    "    'Rental by client, no ongoing housing subsidy' : 'Permanent Exit',\n",
    "    'Rental by client, other ongoing housing subsidy' : 'Permanent Exit',\n",
    "    'Owned by client, no ongoing housing subsidy' : 'Permanent Exit',\n",
    "    # Temporary Exits\n",
    "    'Place not meant for habitation (e.g., a vehicle, an abandoned building, bus/train/subway station/airport or anywhere outside)' : 'Temporary Exit',\n",
    "    'Staying or living with family, temporary tenure (e.g., room, apartment or house)' : 'Temporary Exit',\n",
    "    'Staying or living with friends, temporary tenure (e.g., room, apartment or house)' : 'Temporary Exit',\n",
    "    'Hotel or Motel paid for without Emergency Shelter Voucher' : 'Temporary Exit',\n",
    "    # Emergency Shelter\n",
    "    'Emergency shelter, including hotel or motel paid for with emergency shelter voucher, or RHY-funded Host Home shelter' : 'Emergency Shelter',\n",
    "    # Transitional Housing\n",
    "    'Transitional Housing for homeless persons (including homeless youth)' : 'Transitional Housing',\n",
    "    'Safe Haven' : 'Transitional Housing',\n",
    "    'Substance Abuse Treatment or Detox Center' : 'Transitional Housing',\n",
    "    'Foster Care Home or Foster Care Group Home' : 'Transitional Housing',\n",
    "    'Psychiatric Hospital or Other Psychiatric Facility' : 'Transitional Housing',\n",
    "    # Unknown/Other\n",
    "    'No exit interview completed' : 'Unknown/Other',\n",
    "    'Client refused' : 'Unknown/Other',\n",
    "    'Other' : 'Unknown/Other',\n",
    "    'Client doesn\\'t know' : 'Unknown/Other',\n",
    "    np.NaN : 'Unknown/Other'\n",
    "}"
   ]
  },
  {
   "cell_type": "markdown",
   "metadata": {},
   "source": [
    "## Cleaning Pipeline"
   ]
  },
  {
   "cell_type": "markdown",
   "metadata": {},
   "source": [
    "Start and create pipeline"
   ]
  },
  {
   "cell_type": "code",
   "execution_count": 32,
   "metadata": {},
   "outputs": [],
   "source": [
    "def start_pipeline(dataf):\n",
    "    '''Creates a copy of original dataframe to use in pipeline'''\n",
    "    return dataf.copy()\n",
    "\n",
    "def column_cleaner(dataf):\n",
    "    '''Takes in a dataframe and removes decimals from column names'''\n",
    "    dataf.columns = dataf.columns.str.replace(r'\\d+.', '')\n",
    "    return dataf\n",
    "\n",
    "#Set Data Types function accordingly\n",
    "def set_dtypes(dataf):\n",
    "    '''Sets Data Type to specific columns'''\n",
    "    dataf['Enroll Date'] = pd.to_datetime(dataf['Enroll Date'])\n",
    "    dataf['Exit Date'] = pd.to_datetime(dataf['Exit Date'])\n",
    "    return dataf\n",
    "\n",
    "def add_categories(dataf):\n",
    "    '''Adds each entry to one of the five target categories'''\n",
    "    dataf['Recategorized'] = dataf['Exit Destination'].map(values_dict)\n",
    "    return dataf"
   ]
  },
  {
   "cell_type": "markdown",
   "metadata": {},
   "source": [
    "Run pipeline"
   ]
  },
  {
   "cell_type": "code",
   "execution_count": 33,
   "metadata": {},
   "outputs": [],
   "source": [
    "df2 = (df\n",
    "    .pipe(start_pipeline)\n",
    "    .pipe(column_cleaner)\n",
    "    .pipe(set_dtypes)\n",
    "    .pipe(add_categories)\n",
    ")"
   ]
  },
  {
   "cell_type": "markdown",
   "metadata": {},
   "source": [
    "## Pipeline Results Testing"
   ]
  },
  {
   "cell_type": "code",
   "execution_count": 34,
   "metadata": {},
   "outputs": [
    {
     "data": {
      "text/plain": [
       "(dtype('<M8[ns]'), dtype('<M8[ns]'))"
      ]
     },
     "execution_count": 34,
     "metadata": {},
     "output_type": "execute_result"
    }
   ],
   "source": [
    "df2['Enroll Date'].dtype, df2['Exit Date'].dtype"
   ]
  },
  {
   "cell_type": "code",
   "execution_count": 35,
   "metadata": {},
   "outputs": [
    {
     "data": {
      "text/plain": [
       "Permanent Exit          592\n",
       "Unknown/Other           563\n",
       "Emergency Shelter       391\n",
       "Temporary Exit          219\n",
       "Transitional Housing     97\n",
       "Name: Recategorized, dtype: int64"
      ]
     },
     "execution_count": 35,
     "metadata": {},
     "output_type": "execute_result"
    }
   ],
   "source": [
    "df2['Recategorized'].value_counts(dropna=False)"
   ]
  },
  {
   "cell_type": "markdown",
   "metadata": {},
   "source": [
    "## Initial Visualizations  \n",
    "\n",
    "Final Visualizations will need to be formatted with proper object usage and syntax"
   ]
  },
  {
   "cell_type": "code",
   "execution_count": 46,
   "metadata": {},
   "outputs": [
    {
     "data": {
      "image/png": "[encoded data removed]",
      "text/plain": [
       "<Figure size 432x288 with 1 Axes>"
      ]
     },
     "metadata": {
      "needs_background": "light"
     },
     "output_type": "display_data"
    }
   ],
   "source": [
    "# Value Distribution\n",
    "df2['Recategorized'].value_counts().plot(kind='bar');"
   ]
  },
  {
   "cell_type": "code",
   "execution_count": 40,
   "metadata": {},
   "outputs": [
    {
     "data": {
      "image/png": "[encoded data removed]",
      "text/plain": [
       "<Figure size 432x288 with 1 Axes>"
      ]
     },
     "metadata": {
      "needs_background": "light"
     },
     "output_type": "display_data"
    }
   ],
   "source": [
    "# Basic scatterplots\n",
    "sns.scatterplot(data=df2, y='Recategorized', x='Income Total at Entry').set_title('Exit Destination vs. Income Total at Entry');"
   ]
  },
  {
   "cell_type": "code",
   "execution_count": null,
   "metadata": {},
   "outputs": [],
   "source": []
  }
 ],
 "metadata": {
  "kernelspec": {
   "display_name": "Python 3",
   "language": "python",
   "name": "python3"
  },
  "language_info": {
   "codemirror_mode": {
    "name": "ipython",
    "version": 3
   },
   "file_extension": ".py",
   "mimetype": "text/x-python",
   "name": "python",
   "nbconvert_exporter": "python",
   "pygments_lexer": "ipython3",
   "version": "3.8.5"
  }
 },
 "nbformat": 4,
 "nbformat_minor": 4
}
